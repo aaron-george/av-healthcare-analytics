{
 "cells": [
  {
   "cell_type": "code",
   "execution_count": 2,
   "metadata": {},
   "outputs": [],
   "source": [
    "import numpy as np\n",
    "import pandas as pd\n",
    "import matplotlib.pyplot as plt\n",
    "\n",
    "\n",
    "from sklearn.preprocessing import *\n",
    "from sklearn.model_selection import *\n",
    "from sklearn.metrics import *"
   ]
  },
  {
   "cell_type": "markdown",
   "metadata": {},
   "source": [
    "## Data Colllection"
   ]
  },
  {
   "cell_type": "code",
   "execution_count": 3,
   "metadata": {},
   "outputs": [],
   "source": [
    "train = pd.read_csv('Train/Train.csv')\n",
    "test = pd.read_csv('test_l0Auv8Q.csv')\n",
    "health_camp = pd.read_csv('Train/Health_Camp_Detail.csv')\n",
    "camp_1 = pd.read_csv('Train/First_Health_Camp_Attended.csv')\n",
    "camp_2 = pd.read_csv('Train/Second_Health_Camp_Attended.csv')\n",
    "camp_3 = pd.read_csv('Train/Third_Health_Camp_Attended.csv')\n",
    "patient_profile = pd.read_csv('Train/Patient_Profile.csv')"
   ]
  },
  {
   "cell_type": "code",
   "execution_count": 4,
   "metadata": {},
   "outputs": [
    {
     "data": {
      "text/plain": [
       "Patient_ID           0\n",
       "Health_Camp_ID       0\n",
       "Donation             0\n",
       "Health_Score         0\n",
       "Unnamed: 4        6218\n",
       "dtype: int64"
      ]
     },
     "execution_count": 4,
     "metadata": {},
     "output_type": "execute_result"
    }
   ],
   "source": [
    "camp_1.isnull().sum()"
   ]
  },
  {
   "cell_type": "code",
   "execution_count": 5,
   "metadata": {},
   "outputs": [],
   "source": [
    "train = pd.merge(train, patient_profile, on = 'Patient_ID', how = 'left')\n",
    "test = pd.merge(test, patient_profile, on = 'Patient_ID', how = 'left')"
   ]
  },
  {
   "cell_type": "code",
   "execution_count": 6,
   "metadata": {},
   "outputs": [],
   "source": [
    "#Concat the health camp id and the patient id to get unique ids for target \n",
    "for c in [camp_1, camp_2, camp_3, train]:\n",
    "  c['id'] = c['Patient_ID'].astype('str') + c['Health_Camp_ID'].astype('str')\n",
    "\n",
    "# traget variable for camp 3 - visiting a stall\n",
    "camp_3 = camp_3[camp_3['Number_of_stall_visited'] > 0]\n",
    "\n",
    "# make new dataframe to contain the postive target \n",
    "all_patients_in_camp = pd.Series(camp_1['id'].tolist() + camp_2['id'].tolist() + camp_3['id'].tolist()).unique()\n",
    "\n",
    "# get the target variable - initialise target variable to 0\n",
    "train['target'] = 0\n",
    "# whenever the id - concat of health id and patient id - is in the all patient list( positive outcome ), make target as 1\n",
    "train.loc[train['id'].isin(all_patients_in_camp), 'target'] = 1"
   ]
  },
  {
   "cell_type": "code",
   "execution_count": 7,
   "metadata": {},
   "outputs": [],
   "source": [
    "train = pd.merge(train, health_camp, on = 'Health_Camp_ID', how = 'left')\n",
    "test = pd.merge(test, health_camp, on = 'Health_Camp_ID', how = 'left')"
   ]
  },
  {
   "cell_type": "markdown",
   "metadata": {},
   "source": [
    "## Feature Engineering "
   ]
  },
  {
   "cell_type": "code",
   "execution_count": 8,
   "metadata": {},
   "outputs": [
    {
     "data": {
      "text/plain": [
       "Index(['Patient_ID', 'Health_Camp_ID', 'Registration_Date', 'Var1', 'Var2',\n",
       "       'Var3', 'Var4', 'Var5', 'Online_Follower', 'LinkedIn_Shared',\n",
       "       'Twitter_Shared', 'Facebook_Shared', 'Income', 'Education_Score', 'Age',\n",
       "       'First_Interaction', 'City_Type', 'Employer_Category', 'id', 'target',\n",
       "       'Camp_Start_Date', 'Camp_End_Date', 'Category1', 'Category2',\n",
       "       'Category3'],\n",
       "      dtype='object')"
      ]
     },
     "execution_count": 8,
     "metadata": {},
     "output_type": "execute_result"
    }
   ],
   "source": [
    "train.columns"
   ]
  },
  {
   "cell_type": "code",
   "execution_count": null,
   "metadata": {},
   "outputs": [],
   "source": []
  }
 ],
 "metadata": {
  "kernelspec": {
   "display_name": "Python 3",
   "language": "python",
   "name": "python3"
  },
  "language_info": {
   "codemirror_mode": {
    "name": "ipython",
    "version": 3
   },
   "file_extension": ".py",
   "mimetype": "text/x-python",
   "name": "python",
   "nbconvert_exporter": "python",
   "pygments_lexer": "ipython3",
   "version": "3.8.2"
  }
 },
 "nbformat": 4,
 "nbformat_minor": 4
}
