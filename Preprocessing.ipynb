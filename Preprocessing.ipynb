{
 "cells": [
  {
   "cell_type": "code",
   "execution_count": 1,
   "metadata": {},
   "outputs": [],
   "source": [
    "import numpy as np\n",
    "import pandas as pd\n",
    "import matplotlib.pyplot as plt\n",
    "\n",
    "\n",
    "from sklearn.preprocessing import *\n",
    "from sklearn.model_selection import *\n",
    "from sklearn.metrics import *\n"
   ]
  },
  {
   "cell_type": "markdown",
   "metadata": {},
   "source": [
    "## Data Colllection"
   ]
  },
  {
   "cell_type": "code",
   "execution_count": 2,
   "metadata": {},
   "outputs": [],
   "source": [
    "train = pd.read_csv('Train/Train.csv')\n",
    "test = pd.read_csv('test_l0Auv8Q.csv')\n",
    "health_camp = pd.read_csv('Train/Health_Camp_Detail.csv')\n",
    "camp_1 = pd.read_csv('Train/First_Health_Camp_Attended.csv')\n",
    "camp_2 = pd.read_csv('Train/Second_Health_Camp_Attended.csv')\n",
    "camp_3 = pd.read_csv('Train/Third_Health_Camp_Attended.csv')\n",
    "patient_profile = pd.read_csv('Train/Patient_Profile.csv')"
   ]
  },
  {
   "cell_type": "code",
   "execution_count": 3,
   "metadata": {},
   "outputs": [
    {
     "data": {
      "text/plain": [
       "Patient_ID           0\n",
       "Health_Camp_ID       0\n",
       "Donation             0\n",
       "Health_Score         0\n",
       "Unnamed: 4        6218\n",
       "dtype: int64"
      ]
     },
     "execution_count": 3,
     "metadata": {},
     "output_type": "execute_result"
    }
   ],
   "source": [
    "camp_1.isnull().sum()"
   ]
  },
  {
   "cell_type": "code",
   "execution_count": 4,
   "metadata": {},
   "outputs": [],
   "source": [
    "train = pd.merge(train, patient_profile, on = 'Patient_ID', how = 'left')\n",
    "test = pd.merge(test, patient_profile, on = 'Patient_ID', how = 'left')"
   ]
  },
  {
   "cell_type": "code",
   "execution_count": 5,
   "metadata": {},
   "outputs": [],
   "source": [
    "#Concat the health camp id and the patient id to get unique ids for target \n",
    "for c in [camp_1, camp_2, camp_3, train]:\n",
    "  c['id'] = c['Patient_ID'].astype('str') + c['Health_Camp_ID'].astype('str')\n",
    "\n",
    "# traget variable for camp 3 - visiting a stall\n",
    "camp_3 = camp_3[camp_3['Number_of_stall_visited'] > 0]\n",
    "\n",
    "# make new dataframe to contain the postive target \n",
    "all_patients_in_camp = pd.Series(camp_1['id'].tolist() + camp_2['id'].tolist() + camp_3['id'].tolist()).unique()\n",
    "\n",
    "# get the target variable - initialise target variable to 0\n",
    "train['target'] = 0\n",
    "# whenever the id - concat of health id and patient id - is in the all patient list( positive outcome ), make target as 1\n",
    "train.loc[train['id'].isin(all_patients_in_camp), 'target'] = 1"
   ]
  },
  {
   "cell_type": "code",
   "execution_count": 6,
   "metadata": {},
   "outputs": [],
   "source": [
    "train = pd.merge(train, health_camp, on = 'Health_Camp_ID', how = 'left')\n",
    "test = pd.merge(test, health_camp, on = 'Health_Camp_ID', how = 'left')"
   ]
  },
  {
   "cell_type": "markdown",
   "metadata": {},
   "source": [
    "## Feature Engineering "
   ]
  },
  {
   "cell_type": "code",
   "execution_count": 7,
   "metadata": {},
   "outputs": [
    {
     "data": {
      "text/plain": [
       "7"
      ]
     },
     "execution_count": 7,
     "metadata": {},
     "output_type": "execute_result"
    }
   ],
   "source": [
    "train['Category2'].nunique()"
   ]
  },
  {
   "cell_type": "code",
   "execution_count": 8,
   "metadata": {},
   "outputs": [],
   "source": [
    "#converting None to np.nan\n",
    "train[['Income', 'Education_Score', 'Age']] = train[['Income', 'Education_Score', 'Age']].apply(lambda x: x.str.replace('None', 'NaN').astype('float'))"
   ]
  },
  {
   "cell_type": "code",
   "execution_count": 9,
   "metadata": {},
   "outputs": [],
   "source": [
    "test[['Income', 'Education_Score', 'Age']] = test[['Income', 'Education_Score', 'Age']].apply(lambda x: x.str.replace('None', 'NaN').astype('float'))"
   ]
  },
  {
   "cell_type": "code",
   "execution_count": 10,
   "metadata": {},
   "outputs": [],
   "source": [
    "train[['City_Type','Employer_Category']]=train[['City_Type','Employer_Category']].apply(lambda x: pd.factorize(x)[0])\n",
    "test[['City_Type','Employer_Category']]=test[['City_Type','Employer_Category']].apply(lambda x: pd.factorize(x)[0])"
   ]
  },
  {
   "cell_type": "code",
   "execution_count": 11,
   "metadata": {},
   "outputs": [],
   "source": [
    "from sklearn.preprocessing import LabelEncoder\n",
    "train['cat1_cat2'] = train['Category1'].astype(str) + '_' + train['Category2'].astype(str)\n",
    "test['cat1_cat2'] = test['Category1'].astype(str) + '_' + test['Category2'].astype(str)\n",
    "\n",
    "le = LabelEncoder()\n",
    "train['cat1_cat2'] = le.fit_transform(train['cat1_cat2'])\n",
    "test['cat1_cat2'] = le.transform(test['cat1_cat2'])"
   ]
  },
  {
   "cell_type": "code",
   "execution_count": 12,
   "metadata": {},
   "outputs": [
    {
     "name": "stdout",
     "output_type": "stream",
     "text": [
      "Count :  Patient_ID\n",
      "Count :  Health_Camp_ID\n"
     ]
    }
   ],
   "source": [
    "\n",
    "\n",
    "def getCountVar(compute_df, count_df, var_name, count_var=\"v1\"):\n",
    "    grouped_df = count_df.groupby(var_name, as_index=False).agg('size').reset_index()\n",
    "    grouped_df.columns = [var_name, \"var_count\"]\n",
    "    merged_df = pd.merge(compute_df, grouped_df, how=\"left\", on=var_name)\n",
    "    merged_df.fillna(-1, inplace=True)\n",
    "    return list(merged_df[\"var_count\"])\n",
    "\n",
    "for col in [\"Patient_ID\", \"Health_Camp_ID\"]:\n",
    "    print(\"Count : \", col)\n",
    "    full_df = pd.concat([train, test])\n",
    "    train[\"Count_\"+col] = getCountVar(train, full_df, col)\n",
    "    test[\"Count_\"+col] = getCountVar(test, full_df, col)\n",
    "\n"
   ]
  },
  {
   "cell_type": "code",
   "execution_count": 13,
   "metadata": {},
   "outputs": [],
   "source": [
    "for df_tmp in [train, test]:\n",
    "  for c in ['Health_Camp_ID']:\n",
    "    # mapper = train\n",
    "    df_tmp[c + '_freq'] = df_tmp[c].map(df_tmp[c].value_counts(normalize=True))"
   ]
  },
  {
   "cell_type": "code",
   "execution_count": 14,
   "metadata": {},
   "outputs": [],
   "source": [
    "cat1_col=pd.get_dummies(train['Category1'],drop_first=True)\n",
    "train=pd.concat([train,cat1_col],axis=1)\n",
    "train.drop(['Category1'],axis=1,inplace=True)"
   ]
  },
  {
   "cell_type": "code",
   "execution_count": 15,
   "metadata": {},
   "outputs": [],
   "source": [
    "cat1_col=pd.get_dummies(test['Category1'],drop_first=True)\n",
    "test=pd.concat([test,cat1_col],axis=1)\n",
    "test.drop(['Category1'],axis=1,inplace=True)"
   ]
  },
  {
   "cell_type": "code",
   "execution_count": 16,
   "metadata": {},
   "outputs": [],
   "source": [
    "cat2_col=pd.get_dummies(train['Category2'],drop_first=True)\n",
    "train=pd.concat([train,cat2_col],axis=1)\n",
    "train.drop(['Category2'],axis=1,inplace=True)"
   ]
  },
  {
   "cell_type": "code",
   "execution_count": 17,
   "metadata": {},
   "outputs": [],
   "source": [
    "cat2_col=pd.get_dummies(test['Category2'],drop_first=True)\n",
    "test=pd.concat([test,cat2_col],axis=1)\n",
    "test.drop(['Category2'],axis=1,inplace=True)"
   ]
  },
  {
   "cell_type": "code",
   "execution_count": 18,
   "metadata": {},
   "outputs": [],
   "source": [
    "city_type_col=pd.get_dummies(test['City_Type'],drop_first=True)\n",
    "test=pd.concat([test,city_type_col],axis=1)\n",
    "test.drop(['City_Type'],axis=1,inplace=True)"
   ]
  },
  {
   "cell_type": "code",
   "execution_count": 19,
   "metadata": {},
   "outputs": [],
   "source": [
    "city_type_col=pd.get_dummies(train['City_Type'],drop_first=True)\n",
    "train=pd.concat([train,city_type_col],axis=1)\n",
    "train.drop(['City_Type'],axis=1,inplace=True)"
   ]
  },
  {
   "cell_type": "code",
   "execution_count": 20,
   "metadata": {},
   "outputs": [],
   "source": [
    "emp_cat_col=pd.get_dummies(train['Employer_Category'],drop_first=True)\n",
    "train=pd.concat([train,emp_cat_col],axis=1)\n",
    "train.drop(['Employer_Category'],axis=1,inplace=True)"
   ]
  },
  {
   "cell_type": "code",
   "execution_count": null,
   "metadata": {},
   "outputs": [],
   "source": []
  },
  {
   "cell_type": "code",
   "execution_count": 21,
   "metadata": {},
   "outputs": [
    {
     "data": {
      "text/plain": [
       "Index([          'Patient_ID',       'Health_Camp_ID',    'Registration_Date',\n",
       "                       'Var1',                 'Var2',                 'Var3',\n",
       "                       'Var4',                 'Var5',      'Online_Follower',\n",
       "            'LinkedIn_Shared',       'Twitter_Shared',      'Facebook_Shared',\n",
       "                     'Income',      'Education_Score',                  'Age',\n",
       "          'First_Interaction',    'Employer_Category',      'Camp_Start_Date',\n",
       "              'Camp_End_Date',            'Category3',            'cat1_cat2',\n",
       "           'Count_Patient_ID', 'Count_Health_Camp_ID',  'Health_Camp_ID_freq',\n",
       "                     'Second',                'Third',                    'C',\n",
       "                          'D',                    'E',                    'F',\n",
       "                          'G',                      0,                      1,\n",
       "                            2,                      3,                      4,\n",
       "                            5,                      6,                      7,\n",
       "                            8],\n",
       "      dtype='object')"
      ]
     },
     "execution_count": 21,
     "metadata": {},
     "output_type": "execute_result"
    }
   ],
   "source": [
    "test.columns"
   ]
  },
  {
   "cell_type": "code",
   "execution_count": 22,
   "metadata": {},
   "outputs": [],
   "source": [
    "emp_cat_col=pd.get_dummies(test['Employer_Category'],drop_first=True)\n",
    "test=pd.concat([test,emp_cat_col],axis=1)\n",
    "test.drop(['Employer_Category'],axis=1,inplace=True)"
   ]
  },
  {
   "cell_type": "code",
   "execution_count": 23,
   "metadata": {},
   "outputs": [],
   "source": [
    "import datetime as dt\n",
    "\n",
    "D_COL = 'Registration_Date'\n",
    "for df_tmp in [train, test]:\n",
    "  df_tmp[D_COL] = pd.to_datetime(df_tmp[D_COL])\n",
    "\n",
    "\n",
    "train[\"First_Interaction\"] = pd.to_datetime(train[\"First_Interaction\"],dayfirst=True)\n",
    "train[\"Days_Before_Interact\"] = train[\"Registration_Date\"] - train[\"First_Interaction\"]\n",
    "train[\"Days_Before_Interact\"] = train[\"Days_Before_Interact\"].dt.days\n",
    "train[\"Days_Before_Interact\"] = train[\"Days_Before_Interact\"].fillna(99999).astype(int)\n",
    "\n",
    "test[\"First_Interaction\"] = pd.to_datetime(test[\"First_Interaction\"],dayfirst=True)\n",
    "test[\"Days_Before_Interact\"] = test[\"Registration_Date\"] - train[\"First_Interaction\"]\n",
    "test[\"Days_Before_Interact\"] = test[\"Days_Before_Interact\"].dt.days\n",
    "test[\"Days_Before_Interact\"] = test[\"Days_Before_Interact\"].fillna(99999).astype(int)\n",
    "\n",
    "train['Camp_Start_Date'] = pd.to_datetime(train['Camp_Start_Date'])\n",
    "train['Camp_End_Date'] = pd.to_datetime(train['Camp_End_Date'])\n",
    "train['total_days_of_campaign'] = (train['Camp_End_Date'] - train['Camp_Start_Date']).dt.days\n",
    "\n",
    "test['Camp_Start_Date'] = pd.to_datetime(test['Camp_Start_Date'])\n",
    "test['Camp_End_Date'] = pd.to_datetime(test['Camp_End_Date'])\n",
    "test['total_days_of_campaign'] = (test['Camp_End_Date'] - test['Camp_Start_Date']).dt.days\n",
    "\n",
    "train['reg_start_diff'] = (train['Camp_Start_Date'] - train['Registration_Date']).dt.days\n",
    "test['reg_start_diff'] = (test['Camp_Start_Date'] - test['Registration_Date']).dt.days\n",
    "\n",
    "train['days_for_camp_end'] = (train['Registration_Date'] - train['Camp_End_Date']).dt.days\n",
    "test['days_for_camp_end'] = (test['Registration_Date'] - test['Camp_End_Date']).dt.days\n",
    "\n",
    "train['point_in_camp'] = 1- train['days_for_camp_end']/train['total_days_of_campaign']\n",
    "test['point_in_camp'] = 1- test['days_for_camp_end']/test['total_days_of_campaign']\n",
    "\n",
    "train[\"Diff_CampStart_FirstInteraction\"] = np.abs(train[\"Camp_Start_Date\"] - train[\"First_Interaction\"]).dt.days\n",
    "test[\"Diff_CampStart_FirstInteraction\"] = np.abs(test[\"Camp_Start_Date\"] - test[\"First_Interaction\"]).dt.days"
   ]
  },
  {
   "cell_type": "code",
   "execution_count": null,
   "metadata": {},
   "outputs": [],
   "source": []
  },
  {
   "cell_type": "code",
   "execution_count": 24,
   "metadata": {},
   "outputs": [],
   "source": [
    "test['B']=0"
   ]
  },
  {
   "cell_type": "code",
   "execution_count": 25,
   "metadata": {},
   "outputs": [],
   "source": [
    "def impute_na(df, variable):\n",
    "\n",
    "    # extract the random sample to fill the na\n",
    "    random_sample = df[variable].dropna().sample(df[variable].isnull().sum(), random_state=0,replace=True)\n",
    "    # pandas needs to have the same index in order to merge datasets\n",
    "    random_sample.index = df[df[variable].isnull()].index\n",
    "    df.loc[df[variable].isnull(), variable] = random_sample"
   ]
  },
  {
   "cell_type": "code",
   "execution_count": 26,
   "metadata": {},
   "outputs": [],
   "source": [
    "impute_na(train,'Education_Score')\n",
    "impute_na(train,'Age')\n",
    "impute_na(test,'Education_Score')\n",
    "impute_na(test,'Age')"
   ]
  },
  {
   "cell_type": "code",
   "execution_count": null,
   "metadata": {},
   "outputs": [],
   "source": []
  },
  {
   "cell_type": "code",
   "execution_count": 27,
   "metadata": {},
   "outputs": [],
   "source": [
    "test_min_date = test[D_COL].min()\n",
    "### Getting a train and validation split, similar to test data\n",
    "\n",
    "trn = train[train[D_COL] < test_min_date]\n",
    "val = train[train[D_COL] >= test_min_date]"
   ]
  },
  {
   "cell_type": "code",
   "execution_count": 28,
   "metadata": {},
   "outputs": [
    {
     "data": {
      "text/plain": [
       "54"
      ]
     },
     "execution_count": 28,
     "metadata": {},
     "output_type": "execute_result"
    }
   ],
   "source": [
    "TARGET_COL = 'target'\n",
    "features = [c for c in trn.columns if c not in ['Patient_ID', 'Health_Camp_ID', 'Registration_Date', TARGET_COL, 'id','Camp_Start_Date', 'Camp_End_Date', 'First_Interaction']]\n",
    "len(features)"
   ]
  },
  {
   "cell_type": "code",
   "execution_count": 29,
   "metadata": {},
   "outputs": [
    {
     "name": "stderr",
     "output_type": "stream",
     "text": [
      "/home/aaron/.local/lib/python3.8/site-packages/pandas/core/frame.py:4147: SettingWithCopyWarning: \n",
      "A value is trying to be set on a copy of a slice from a DataFrame\n",
      "\n",
      "See the caveats in the documentation: https://pandas.pydata.org/pandas-docs/stable/user_guide/indexing.html#returning-a-view-versus-a-copy\n",
      "  return super().fillna(\n"
     ]
    }
   ],
   "source": [
    "trn.fillna(-999,inplace=True)\n",
    "val.fillna(-999,inplace=True)\n",
    "test.fillna(-999,inplace=True)"
   ]
  },
  {
   "cell_type": "code",
   "execution_count": 30,
   "metadata": {},
   "outputs": [
    {
     "name": "stdout",
     "output_type": "stream",
     "text": [
      "Training until validation scores don't improve for 10000 rounds\n",
      "[50]\tvalid_0's auc: 0.824866\tvalid_0's binary_logloss: 0.487503\n",
      "[100]\tvalid_0's auc: 0.824305\tvalid_0's binary_logloss: 0.485817\n",
      "Did not meet early stopping. Best iteration is:\n",
      "[60]\tvalid_0's auc: 0.825227\tvalid_0's binary_logloss: 0.485629\n"
     ]
    }
   ],
   "source": [
    "from lightgbm import LGBMClassifier\n",
    "\n",
    "clf = LGBMClassifier(n_estimators=100, learning_rate=0.04, random_state=27)\n",
    "\n",
    "clf.fit(trn[features], trn[TARGET_COL], eval_set=[(val[features], val[TARGET_COL])], verbose=50,\n",
    "        eval_metric = 'auc', early_stopping_rounds = 10000)\n",
    "\n",
    "preds = clf.predict_proba(test[features])[:, 1]"
   ]
  },
  {
   "cell_type": "code",
   "execution_count": 31,
   "metadata": {},
   "outputs": [],
   "source": [
    "ss = pd.read_csv('sample_submmission.csv')\n",
    "ss['Outcome'] = preds\n",
    "SUB_FILE_NAME = 'submission_jantahack_healthcare.csv'\n",
    "ss.to_csv(SUB_FILE_NAME, index=False)\n"
   ]
  },
  {
   "cell_type": "code",
   "execution_count": 33,
   "metadata": {},
   "outputs": [
    {
     "data": {
      "text/plain": [
       "LogisticRegression(C=0.7, class_weight={0: 0.272776, 1: 0.727224},\n",
       "                   max_iter=4000)"
      ]
     },
     "execution_count": 33,
     "metadata": {},
     "output_type": "execute_result"
    }
   ],
   "source": [
    "from sklearn.linear_model import LogisticRegression\n",
    "\n",
    "\n",
    "lr = LogisticRegression(max_iter=4000,fit_intercept=True,C=0.7,class_weight={1:0.727224,0:0.272776})\n",
    "lr.fit(trn[features], trn[TARGET_COL])\n"
   ]
  },
  {
   "cell_type": "code",
   "execution_count": 34,
   "metadata": {},
   "outputs": [],
   "source": [
    "preds1 = lr.predict_proba(test[features])[:, 1]"
   ]
  },
  {
   "cell_type": "code",
   "execution_count": 36,
   "metadata": {},
   "outputs": [],
   "source": [
    "sub = pd.read_csv('sample_submmission.csv')\n",
    "SUB_FILE_NAME = 'submission_jantahack_healthcare_final.csv'\n",
    "sub[\"Outcome\"] = preds1*0.3 + preds*0.8\n",
    "sub.to_csv(SUB_FILE_NAME, index=False)\n"
   ]
  },
  {
   "cell_type": "code",
   "execution_count": null,
   "metadata": {},
   "outputs": [],
   "source": []
  }
 ],
 "metadata": {
  "kernelspec": {
   "display_name": "Python 3",
   "language": "python",
   "name": "python3"
  },
  "language_info": {
   "codemirror_mode": {
    "name": "ipython",
    "version": 3
   },
   "file_extension": ".py",
   "mimetype": "text/x-python",
   "name": "python",
   "nbconvert_exporter": "python",
   "pygments_lexer": "ipython3",
   "version": "3.8.2"
  }
 },
 "nbformat": 4,
 "nbformat_minor": 4
}
